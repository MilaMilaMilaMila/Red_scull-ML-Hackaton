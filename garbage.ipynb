{
 "cells": [
  {
   "cell_type": "code",
   "execution_count": 1,
   "id": "0f9406c3",
   "metadata": {},
   "outputs": [],
   "source": [
    "import numpy as np\n",
    "import pandas as pd\n",
    "import json\n",
    "import os\n",
    "from PIL import Image"
   ]
  },
  {
   "cell_type": "code",
   "execution_count": 192,
   "id": "3b0c3816",
   "metadata": {},
   "outputs": [],
   "source": [
    "df = pd.read_csv('./datasets/train-all.csv', index_col=\"Unnamed: 0\")\n",
    "df = df.rename(columns={'INPUT:image': 'image', 'OUTPUT:path': 'count'})"
   ]
  },
  {
   "cell_type": "code",
   "execution_count": 193,
   "id": "e0c9b3d8",
   "metadata": {},
   "outputs": [],
   "source": [
    "df['count'] = df['count'].apply(lambda x: x.count('shape'))\n",
    "df['image'] = df['image'].apply(lambda x: os.path.split(x)[-1])"
   ]
  },
  {
   "cell_type": "code",
   "execution_count": 185,
   "id": "230dadda",
   "metadata": {
    "scrolled": false
   },
   "outputs": [
    {
     "data": {
      "text/html": [
       "<div>\n",
       "<style scoped>\n",
       "    .dataframe tbody tr th:only-of-type {\n",
       "        vertical-align: middle;\n",
       "    }\n",
       "\n",
       "    .dataframe tbody tr th {\n",
       "        vertical-align: top;\n",
       "    }\n",
       "\n",
       "    .dataframe thead th {\n",
       "        text-align: right;\n",
       "    }\n",
       "</style>\n",
       "<table border=\"1\" class=\"dataframe\">\n",
       "  <thead>\n",
       "    <tr style=\"text-align: right;\">\n",
       "      <th></th>\n",
       "      <th>image</th>\n",
       "      <th>count</th>\n",
       "      <th>rle</th>\n",
       "    </tr>\n",
       "  </thead>\n",
       "  <tbody>\n",
       "    <tr>\n",
       "      <th>0</th>\n",
       "      <td>DJI_0037-400.jpg</td>\n",
       "      <td>1</td>\n",
       "      <td>1942571 3 1945269 9 1947967 15 1950665 21 1953...</td>\n",
       "    </tr>\n",
       "    <tr>\n",
       "      <th>1</th>\n",
       "      <td>DJI_0080-1300.jpg</td>\n",
       "      <td>1</td>\n",
       "      <td>1504852 3 1507554 9 1510257 15 1512959 21 1515...</td>\n",
       "    </tr>\n",
       "    <tr>\n",
       "      <th>2</th>\n",
       "      <td>DJI_0075-1000.jpg</td>\n",
       "      <td>1</td>\n",
       "      <td>3120742 2 3123444 6 3126147 10 3128850 13 3131...</td>\n",
       "    </tr>\n",
       "    <tr>\n",
       "      <th>3</th>\n",
       "      <td>DJI_0018-1075.jpg</td>\n",
       "      <td>1</td>\n",
       "      <td>841684 2 844385 7 847086 12 849787 17 852488 2...</td>\n",
       "    </tr>\n",
       "    <tr>\n",
       "      <th>4</th>\n",
       "      <td>DJI_0071-2675.jpg</td>\n",
       "      <td>2</td>\n",
       "      <td>36947 5 39641 10 42335 12 45030 13 47724 15 50...</td>\n",
       "    </tr>\n",
       "    <tr>\n",
       "      <th>...</th>\n",
       "      <td>...</td>\n",
       "      <td>...</td>\n",
       "      <td>...</td>\n",
       "    </tr>\n",
       "    <tr>\n",
       "      <th>5242</th>\n",
       "      <td>DJI_0071-2175.jpg</td>\n",
       "      <td>1</td>\n",
       "      <td>1942439 4 1945137 11 1947835 18 1950533 25 195...</td>\n",
       "    </tr>\n",
       "    <tr>\n",
       "      <th>5244</th>\n",
       "      <td>DJI_0037-0.jpg</td>\n",
       "      <td>1</td>\n",
       "      <td>1047560 1 1050263 3 1052966 5 1055669 7 105837...</td>\n",
       "    </tr>\n",
       "    <tr>\n",
       "      <th>5246</th>\n",
       "      <td>DJI_0049-1975.jpg</td>\n",
       "      <td>1</td>\n",
       "      <td>2651023 19 2653720 42 2656418 49 2659115 58 26...</td>\n",
       "    </tr>\n",
       "    <tr>\n",
       "      <th>5247</th>\n",
       "      <td>DJI_0083-900.jpg</td>\n",
       "      <td>1</td>\n",
       "      <td>1875487 1 1878189 3 1880891 6 1880933 2 188359...</td>\n",
       "    </tr>\n",
       "    <tr>\n",
       "      <th>5249</th>\n",
       "      <td>DJI_0008-1500.jpg</td>\n",
       "      <td>1</td>\n",
       "      <td>1505167 2 1507870 5 1510574 8 1513277 11 15159...</td>\n",
       "    </tr>\n",
       "  </tbody>\n",
       "</table>\n",
       "<p>4237 rows × 3 columns</p>\n",
       "</div>"
      ],
      "text/plain": [
       "                  image  count  \\\n",
       "0      DJI_0037-400.jpg      1   \n",
       "1     DJI_0080-1300.jpg      1   \n",
       "2     DJI_0075-1000.jpg      1   \n",
       "3     DJI_0018-1075.jpg      1   \n",
       "4     DJI_0071-2675.jpg      2   \n",
       "...                 ...    ...   \n",
       "5242  DJI_0071-2175.jpg      1   \n",
       "5244     DJI_0037-0.jpg      1   \n",
       "5246  DJI_0049-1975.jpg      1   \n",
       "5247   DJI_0083-900.jpg      1   \n",
       "5249  DJI_0008-1500.jpg      1   \n",
       "\n",
       "                                                    rle  \n",
       "0     1942571 3 1945269 9 1947967 15 1950665 21 1953...  \n",
       "1     1504852 3 1507554 9 1510257 15 1512959 21 1515...  \n",
       "2     3120742 2 3123444 6 3126147 10 3128850 13 3131...  \n",
       "3     841684 2 844385 7 847086 12 849787 17 852488 2...  \n",
       "4     36947 5 39641 10 42335 12 45030 13 47724 15 50...  \n",
       "...                                                 ...  \n",
       "5242  1942439 4 1945137 11 1947835 18 1950533 25 195...  \n",
       "5244  1047560 1 1050263 3 1052966 5 1055669 7 105837...  \n",
       "5246  2651023 19 2653720 42 2656418 49 2659115 58 26...  \n",
       "5247  1875487 1 1878189 3 1880891 6 1880933 2 188359...  \n",
       "5249  1505167 2 1507870 5 1510574 8 1513277 11 15159...  \n",
       "\n",
       "[4237 rows x 3 columns]"
      ]
     },
     "execution_count": 185,
     "metadata": {},
     "output_type": "execute_result"
    }
   ],
   "source": [
    "df"
   ]
  },
  {
   "cell_type": "code",
   "execution_count": 38,
   "id": "317835d2",
   "metadata": {},
   "outputs": [],
   "source": [
    "def rle_decode(mask_rle, shape):\n",
    "    '''\n",
    "    mask_rle: run-length as string formated (start length)\n",
    "    shape: (height,width) of array to return \n",
    "    Returns numpy array, 1 - mask, 0 - background\n",
    "\n",
    "    '''\n",
    "    s = mask_rle.split()\n",
    "    starts, lengths = [np.asarray(x, dtype=int) for x in (s[0:][::2], s[1:][::2])]\n",
    "    starts -= 1\n",
    "    ends = starts + lengths\n",
    "    img = np.zeros(shape[0]*shape[1], dtype=np.uint8)\n",
    "    for lo, hi in zip(starts, ends):\n",
    "        img[lo:hi] = 1\n",
    "    return img.reshape(shape)"
   ]
  },
  {
   "cell_type": "code",
   "execution_count": 117,
   "id": "e4f63b9c",
   "metadata": {},
   "outputs": [],
   "source": [
    "def rle_encode(img):\n",
    "    '''\n",
    "    img: numpy array, 1 - mask, 0 - background\n",
    "    Returns run length as string formated\n",
    "    '''\n",
    "    pixels = img.flatten()\n",
    "    pixels = np.concatenate([[0], pixels, [0]])\n",
    "    runs = np.where(pixels[1:] != pixels[:-1])[0] + 1\n",
    "    runs[1::2] -= runs[:-1:2]\n",
    "    \n",
    "    return ' '.join(str(x) for x in runs)"
   ]
  },
  {
   "cell_type": "code",
   "execution_count": 194,
   "id": "284374a7",
   "metadata": {},
   "outputs": [],
   "source": [
    "duplicates = df.groupby(df['image']).size()\n",
    "duplicates = duplicates[duplicates > 1]"
   ]
  },
  {
   "cell_type": "code",
   "execution_count": 108,
   "id": "d2e78b73",
   "metadata": {},
   "outputs": [
    {
     "data": {
      "text/plain": [
       "image\n",
       "DJI_0008-0.jpg       2\n",
       "DJI_0008-100.jpg     2\n",
       "DJI_0008-1075.jpg    3\n",
       "DJI_0008-1100.jpg    3\n",
       "DJI_0008-1125.jpg    3\n",
       "                    ..\n",
       "DJI_0265-675.jpg     2\n",
       "DJI_0265-725.jpg     2\n",
       "DJI_0265-75.jpg      2\n",
       "DJI_0265-750.jpg     2\n",
       "DJI_0265-775.jpg     2\n",
       "Length: 1340, dtype: int64"
      ]
     },
     "execution_count": 108,
     "metadata": {},
     "output_type": "execute_result"
    }
   ],
   "source": [
    "duplicates"
   ]
  },
  {
   "cell_type": "code",
   "execution_count": 186,
   "id": "c4e371b7",
   "metadata": {},
   "outputs": [],
   "source": [
    "image_folder = './datasets/train/train/'\n",
    "\n",
    "def replace_duplicates(df, rows):\n",
    "    df = df.drop_duplicates(subset='image', keep=False)\n",
    "    \n",
    "    for row in rows:\n",
    "        df = df.append(row, ignore_index=True)\n",
    "    \n",
    "    return df\n",
    "        \n",
    "def get_resolution(image_path: str):\n",
    "    with Image.open(image_folder + image_path) as img:\n",
    "        width, height = img.size\n",
    "    return (height, width)"
   ]
  },
  {
   "cell_type": "code",
   "execution_count": 191,
   "id": "a25738a9",
   "metadata": {},
   "outputs": [],
   "source": [
    "def zip_duplicate_groups(groups):\n",
    "    unified = []\n",
    "        \n",
    "    for image in groups.index:\n",
    "        dup = df[df['image'] == image]\n",
    "        height, width = get_resolution(image)\n",
    "        complete_mask = np.zeros((height, width), dtype=np.int32)\n",
    "\n",
    "        for i, rle in enumerate(dup['rle'], start=1):\n",
    "            mask = rle_decode(rle, (height, width))\n",
    "            complete_mask = complete_mask + mask\n",
    "        \n",
    "        complete_rle = rle_encode(complete_mask)\n",
    "        unified.append({'image': image, 'count': i, 'rle': complete_rle})\n",
    "    \n",
    "    return unified"
   ]
  },
  {
   "cell_type": "code",
   "execution_count": 195,
   "id": "2b2d8d13",
   "metadata": {},
   "outputs": [],
   "source": [
    "deduplicated = zip_duplicate_groups(duplicates)"
   ]
  },
  {
   "cell_type": "code",
   "execution_count": 196,
   "id": "af7c2eaa",
   "metadata": {
    "scrolled": true
   },
   "outputs": [],
   "source": [
    "df = replace_duplicates(df, deduplicated)"
   ]
  },
  {
   "cell_type": "code",
   "execution_count": 197,
   "id": "cbbda792",
   "metadata": {},
   "outputs": [],
   "source": [
    "reduplicates = df.groupby(df['image']).size()\n",
    "reduplicates = reduplicates[reduplicates > 1]"
   ]
  },
  {
   "cell_type": "code",
   "execution_count": 198,
   "id": "39941925",
   "metadata": {},
   "outputs": [
    {
     "data": {
      "text/plain": [
       "Series([], dtype: int64)"
      ]
     },
     "execution_count": 198,
     "metadata": {},
     "output_type": "execute_result"
    }
   ],
   "source": [
    "reduplicates\n"
   ]
  },
  {
   "cell_type": "code",
   "execution_count": 199,
   "id": "2dec1a97",
   "metadata": {},
   "outputs": [
    {
     "data": {
      "text/html": [
       "<div>\n",
       "<style scoped>\n",
       "    .dataframe tbody tr th:only-of-type {\n",
       "        vertical-align: middle;\n",
       "    }\n",
       "\n",
       "    .dataframe tbody tr th {\n",
       "        vertical-align: top;\n",
       "    }\n",
       "\n",
       "    .dataframe thead th {\n",
       "        text-align: right;\n",
       "    }\n",
       "</style>\n",
       "<table border=\"1\" class=\"dataframe\">\n",
       "  <thead>\n",
       "    <tr style=\"text-align: right;\">\n",
       "      <th></th>\n",
       "      <th>image</th>\n",
       "      <th>count</th>\n",
       "      <th>rle</th>\n",
       "    </tr>\n",
       "  </thead>\n",
       "  <tbody>\n",
       "    <tr>\n",
       "      <th>0</th>\n",
       "      <td>DJI_0034-1125.jpg</td>\n",
       "      <td>1</td>\n",
       "      <td>71441 5 74146 13 76850 22 79555 30 82259 39 84...</td>\n",
       "    </tr>\n",
       "    <tr>\n",
       "      <th>1</th>\n",
       "      <td>DJI_0034-3225.jpg</td>\n",
       "      <td>1</td>\n",
       "      <td>1009140 1 1011842 4 1014544 7 1017247 9 101994...</td>\n",
       "    </tr>\n",
       "    <tr>\n",
       "      <th>2</th>\n",
       "      <td>DJI_0013-750.jpg</td>\n",
       "      <td>1</td>\n",
       "      <td>2624555 5 2628395 14 2632234 24 2636074 33 263...</td>\n",
       "    </tr>\n",
       "    <tr>\n",
       "      <th>3</th>\n",
       "      <td>DJI_0071-1275.jpg</td>\n",
       "      <td>2</td>\n",
       "      <td>1423967 1 1426669 3 1429371 6 1432074 8 143477...</td>\n",
       "    </tr>\n",
       "    <tr>\n",
       "      <th>4</th>\n",
       "      <td>DJI_0075-200.jpg</td>\n",
       "      <td>1</td>\n",
       "      <td>1593618 3 1596316 9 1599015 15 1601714 21 1604...</td>\n",
       "    </tr>\n",
       "    <tr>\n",
       "      <th>...</th>\n",
       "      <td>...</td>\n",
       "      <td>...</td>\n",
       "      <td>...</td>\n",
       "    </tr>\n",
       "    <tr>\n",
       "      <th>1719</th>\n",
       "      <td>DJI_0265-675.jpg</td>\n",
       "      <td>2</td>\n",
       "      <td>4349894 2 4353731 4 4357568 6 4361405 8 436524...</td>\n",
       "    </tr>\n",
       "    <tr>\n",
       "      <th>1720</th>\n",
       "      <td>DJI_0265-725.jpg</td>\n",
       "      <td>2</td>\n",
       "      <td>4367901 3 4371741 7 4375580 12 4379420 17 4383...</td>\n",
       "    </tr>\n",
       "    <tr>\n",
       "      <th>1721</th>\n",
       "      <td>DJI_0265-75.jpg</td>\n",
       "      <td>2</td>\n",
       "      <td>4145490 2 4149330 6 4153170 10 4157010 14 4160...</td>\n",
       "    </tr>\n",
       "    <tr>\n",
       "      <th>1722</th>\n",
       "      <td>DJI_0265-750.jpg</td>\n",
       "      <td>2</td>\n",
       "      <td>3446320 2 3450158 6 3453996 10 3457835 14 3461...</td>\n",
       "    </tr>\n",
       "    <tr>\n",
       "      <th>1723</th>\n",
       "      <td>DJI_0265-775.jpg</td>\n",
       "      <td>2</td>\n",
       "      <td>2660100 37 2663892 111 2667683 186 2671497 238...</td>\n",
       "    </tr>\n",
       "  </tbody>\n",
       "</table>\n",
       "<p>1724 rows × 3 columns</p>\n",
       "</div>"
      ],
      "text/plain": [
       "                  image  count  \\\n",
       "0     DJI_0034-1125.jpg      1   \n",
       "1     DJI_0034-3225.jpg      1   \n",
       "2      DJI_0013-750.jpg      1   \n",
       "3     DJI_0071-1275.jpg      2   \n",
       "4      DJI_0075-200.jpg      1   \n",
       "...                 ...    ...   \n",
       "1719   DJI_0265-675.jpg      2   \n",
       "1720   DJI_0265-725.jpg      2   \n",
       "1721    DJI_0265-75.jpg      2   \n",
       "1722   DJI_0265-750.jpg      2   \n",
       "1723   DJI_0265-775.jpg      2   \n",
       "\n",
       "                                                    rle  \n",
       "0     71441 5 74146 13 76850 22 79555 30 82259 39 84...  \n",
       "1     1009140 1 1011842 4 1014544 7 1017247 9 101994...  \n",
       "2     2624555 5 2628395 14 2632234 24 2636074 33 263...  \n",
       "3     1423967 1 1426669 3 1429371 6 1432074 8 143477...  \n",
       "4     1593618 3 1596316 9 1599015 15 1601714 21 1604...  \n",
       "...                                                 ...  \n",
       "1719  4349894 2 4353731 4 4357568 6 4361405 8 436524...  \n",
       "1720  4367901 3 4371741 7 4375580 12 4379420 17 4383...  \n",
       "1721  4145490 2 4149330 6 4153170 10 4157010 14 4160...  \n",
       "1722  3446320 2 3450158 6 3453996 10 3457835 14 3461...  \n",
       "1723  2660100 37 2663892 111 2667683 186 2671497 238...  \n",
       "\n",
       "[1724 rows x 3 columns]"
      ]
     },
     "execution_count": 199,
     "metadata": {},
     "output_type": "execute_result"
    }
   ],
   "source": [
    "df"
   ]
  },
  {
   "cell_type": "code",
   "execution_count": 201,
   "id": "02e30d09",
   "metadata": {},
   "outputs": [],
   "source": [
    "df.to_csv('./datasets/merged-train-all.csv')"
   ]
  }
 ],
 "metadata": {
  "kernelspec": {
   "display_name": "Python 3 (ipykernel)",
   "language": "python",
   "name": "python3"
  },
  "language_info": {
   "codemirror_mode": {
    "name": "ipython",
    "version": 3
   },
   "file_extension": ".py",
   "mimetype": "text/x-python",
   "name": "python",
   "nbconvert_exporter": "python",
   "pygments_lexer": "ipython3",
   "version": "3.8.10"
  }
 },
 "nbformat": 4,
 "nbformat_minor": 5
}
