{
 "cells": [
  {
   "cell_type": "code",
   "execution_count": 281,
   "id": "0f9406c3",
   "metadata": {},
   "outputs": [],
   "source": [
    "import numpy as np\n",
    "import pandas as pd\n",
    "import json\n",
    "import os\n",
    "from PIL import Image"
   ]
  },
  {
   "cell_type": "code",
   "execution_count": 157,
   "id": "3b0c3816",
   "metadata": {},
   "outputs": [],
   "source": [
    "df = pd.read_csv('C:/Users/shvet/Downloads/train-all.csv')"
   ]
  },
  {
   "cell_type": "code",
   "execution_count": 158,
   "id": "857c3a4c",
   "metadata": {},
   "outputs": [
    {
     "data": {
      "text/html": [
       "<div>\n",
       "<style scoped>\n",
       "    .dataframe tbody tr th:only-of-type {\n",
       "        vertical-align: middle;\n",
       "    }\n",
       "\n",
       "    .dataframe tbody tr th {\n",
       "        vertical-align: top;\n",
       "    }\n",
       "\n",
       "    .dataframe thead th {\n",
       "        text-align: right;\n",
       "    }\n",
       "</style>\n",
       "<table border=\"1\" class=\"dataframe\">\n",
       "  <thead>\n",
       "    <tr style=\"text-align: right;\">\n",
       "      <th></th>\n",
       "      <th>Unnamed: 0</th>\n",
       "      <th>INPUT:image</th>\n",
       "      <th>OUTPUT:path</th>\n",
       "      <th>rle</th>\n",
       "    </tr>\n",
       "  </thead>\n",
       "  <tbody>\n",
       "    <tr>\n",
       "      <th>0</th>\n",
       "      <td>0</td>\n",
       "      <td>https://storage.yandexcloud.net/garbage-images...</td>\n",
       "      <td>{\"shape\":\"polygon\"\\,\"points\":[{\"left\":0.406846...</td>\n",
       "      <td>1942571 3 1945269 9 1947967 15 1950665 21 1953...</td>\n",
       "    </tr>\n",
       "    <tr>\n",
       "      <th>1</th>\n",
       "      <td>1</td>\n",
       "      <td>https://storage.yandexcloud.net/garbage-images...</td>\n",
       "      <td>{\"shape\":\"polygon\"\\,\"points\":[{\"left\":0.530583...</td>\n",
       "      <td>1504852 3 1507554 9 1510257 15 1512959 21 1515...</td>\n",
       "    </tr>\n",
       "    <tr>\n",
       "      <th>2</th>\n",
       "      <td>2</td>\n",
       "      <td>https://storage.yandexcloud.net/garbage-images...</td>\n",
       "      <td>{\"shape\":\"polygon\"\\,\"points\":[{\"left\":0.120259...</td>\n",
       "      <td>3120742 2 3123444 6 3126147 10 3128850 13 3131...</td>\n",
       "    </tr>\n",
       "    <tr>\n",
       "      <th>3</th>\n",
       "      <td>3</td>\n",
       "      <td>https://storage.yandexcloud.net/garbage-images...</td>\n",
       "      <td>{\"shape\":\"polygon\"\\,\"points\":[{\"left\":0.297034...</td>\n",
       "      <td>841684 2 844385 7 847086 12 849787 17 852488 2...</td>\n",
       "    </tr>\n",
       "    <tr>\n",
       "      <th>4</th>\n",
       "      <td>4</td>\n",
       "      <td>https://storage.yandexcloud.net/garbage-images...</td>\n",
       "      <td>{\"shape\":\"polygon\"\\,\"points\":[{\"left\":0.719647...</td>\n",
       "      <td>36947 5 39641 10 42335 12 45030 13 47724 15 50...</td>\n",
       "    </tr>\n",
       "    <tr>\n",
       "      <th>...</th>\n",
       "      <td>...</td>\n",
       "      <td>...</td>\n",
       "      <td>...</td>\n",
       "      <td>...</td>\n",
       "    </tr>\n",
       "    <tr>\n",
       "      <th>4232</th>\n",
       "      <td>5242</td>\n",
       "      <td>https://storage.yandexcloud.net/garbage-images...</td>\n",
       "      <td>{\"shape\":\"polygon\"\\,\"points\":[{\"left\":0.267891...</td>\n",
       "      <td>1942439 4 1945137 11 1947835 18 1950533 25 195...</td>\n",
       "    </tr>\n",
       "    <tr>\n",
       "      <th>4233</th>\n",
       "      <td>5244</td>\n",
       "      <td>https://storage.yandexcloud.net/garbage-images...</td>\n",
       "      <td>{\"shape\":\"polygon\"\\,\"points\":[{\"left\":0.411109...</td>\n",
       "      <td>1047560 1 1050263 3 1052966 5 1055669 7 105837...</td>\n",
       "    </tr>\n",
       "    <tr>\n",
       "      <th>4234</th>\n",
       "      <td>5246</td>\n",
       "      <td>https://storage.yandexcloud.net/garbage-images...</td>\n",
       "      <td>{\"shape\":\"polygon\"\\,\"points\":[{\"left\":0.389559...</td>\n",
       "      <td>2651023 19 2653720 42 2656418 49 2659115 58 26...</td>\n",
       "    </tr>\n",
       "    <tr>\n",
       "      <th>4235</th>\n",
       "      <td>5247</td>\n",
       "      <td>https://storage.yandexcloud.net/garbage-images...</td>\n",
       "      <td>{\"shape\":\"polygon\"\\,\"points\":[{\"left\":0.565837...</td>\n",
       "      <td>1875487 1 1878189 3 1880891 6 1880933 2 188359...</td>\n",
       "    </tr>\n",
       "    <tr>\n",
       "      <th>4236</th>\n",
       "      <td>5249</td>\n",
       "      <td>https://storage.yandexcloud.net/garbage-images...</td>\n",
       "      <td>{\"shape\":\"polygon\"\\,\"points\":[{\"left\":0.713883...</td>\n",
       "      <td>1505167 2 1507870 5 1510574 8 1513277 11 15159...</td>\n",
       "    </tr>\n",
       "  </tbody>\n",
       "</table>\n",
       "<p>4237 rows × 4 columns</p>\n",
       "</div>"
      ],
      "text/plain": [
       "      Unnamed: 0                                        INPUT:image  \\\n",
       "0              0  https://storage.yandexcloud.net/garbage-images...   \n",
       "1              1  https://storage.yandexcloud.net/garbage-images...   \n",
       "2              2  https://storage.yandexcloud.net/garbage-images...   \n",
       "3              3  https://storage.yandexcloud.net/garbage-images...   \n",
       "4              4  https://storage.yandexcloud.net/garbage-images...   \n",
       "...          ...                                                ...   \n",
       "4232        5242  https://storage.yandexcloud.net/garbage-images...   \n",
       "4233        5244  https://storage.yandexcloud.net/garbage-images...   \n",
       "4234        5246  https://storage.yandexcloud.net/garbage-images...   \n",
       "4235        5247  https://storage.yandexcloud.net/garbage-images...   \n",
       "4236        5249  https://storage.yandexcloud.net/garbage-images...   \n",
       "\n",
       "                                            OUTPUT:path  \\\n",
       "0     {\"shape\":\"polygon\"\\,\"points\":[{\"left\":0.406846...   \n",
       "1     {\"shape\":\"polygon\"\\,\"points\":[{\"left\":0.530583...   \n",
       "2     {\"shape\":\"polygon\"\\,\"points\":[{\"left\":0.120259...   \n",
       "3     {\"shape\":\"polygon\"\\,\"points\":[{\"left\":0.297034...   \n",
       "4     {\"shape\":\"polygon\"\\,\"points\":[{\"left\":0.719647...   \n",
       "...                                                 ...   \n",
       "4232  {\"shape\":\"polygon\"\\,\"points\":[{\"left\":0.267891...   \n",
       "4233  {\"shape\":\"polygon\"\\,\"points\":[{\"left\":0.411109...   \n",
       "4234  {\"shape\":\"polygon\"\\,\"points\":[{\"left\":0.389559...   \n",
       "4235  {\"shape\":\"polygon\"\\,\"points\":[{\"left\":0.565837...   \n",
       "4236  {\"shape\":\"polygon\"\\,\"points\":[{\"left\":0.713883...   \n",
       "\n",
       "                                                    rle  \n",
       "0     1942571 3 1945269 9 1947967 15 1950665 21 1953...  \n",
       "1     1504852 3 1507554 9 1510257 15 1512959 21 1515...  \n",
       "2     3120742 2 3123444 6 3126147 10 3128850 13 3131...  \n",
       "3     841684 2 844385 7 847086 12 849787 17 852488 2...  \n",
       "4     36947 5 39641 10 42335 12 45030 13 47724 15 50...  \n",
       "...                                                 ...  \n",
       "4232  1942439 4 1945137 11 1947835 18 1950533 25 195...  \n",
       "4233  1047560 1 1050263 3 1052966 5 1055669 7 105837...  \n",
       "4234  2651023 19 2653720 42 2656418 49 2659115 58 26...  \n",
       "4235  1875487 1 1878189 3 1880891 6 1880933 2 188359...  \n",
       "4236  1505167 2 1507870 5 1510574 8 1513277 11 15159...  \n",
       "\n",
       "[4237 rows x 4 columns]"
      ]
     },
     "execution_count": 158,
     "metadata": {},
     "output_type": "execute_result"
    }
   ],
   "source": [
    "df"
   ]
  },
  {
   "cell_type": "code",
   "execution_count": null,
   "id": "17055d99",
   "metadata": {},
   "outputs": [],
   "source": []
  },
  {
   "cell_type": "code",
   "execution_count": 159,
   "id": "477c951e",
   "metadata": {},
   "outputs": [
    {
     "data": {
      "text/html": [
       "<div>\n",
       "<style scoped>\n",
       "    .dataframe tbody tr th:only-of-type {\n",
       "        vertical-align: middle;\n",
       "    }\n",
       "\n",
       "    .dataframe tbody tr th {\n",
       "        vertical-align: top;\n",
       "    }\n",
       "\n",
       "    .dataframe thead th {\n",
       "        text-align: right;\n",
       "    }\n",
       "</style>\n",
       "<table border=\"1\" class=\"dataframe\">\n",
       "  <thead>\n",
       "    <tr style=\"text-align: right;\">\n",
       "      <th></th>\n",
       "      <th>image</th>\n",
       "      <th>count</th>\n",
       "      <th>rle</th>\n",
       "    </tr>\n",
       "  </thead>\n",
       "  <tbody>\n",
       "    <tr>\n",
       "      <th>0</th>\n",
       "      <td>https://storage.yandexcloud.net/garbage-images...</td>\n",
       "      <td>{\"shape\":\"polygon\"\\,\"points\":[{\"left\":0.406846...</td>\n",
       "      <td>1942571 3 1945269 9 1947967 15 1950665 21 1953...</td>\n",
       "    </tr>\n",
       "    <tr>\n",
       "      <th>1</th>\n",
       "      <td>https://storage.yandexcloud.net/garbage-images...</td>\n",
       "      <td>{\"shape\":\"polygon\"\\,\"points\":[{\"left\":0.530583...</td>\n",
       "      <td>1504852 3 1507554 9 1510257 15 1512959 21 1515...</td>\n",
       "    </tr>\n",
       "    <tr>\n",
       "      <th>2</th>\n",
       "      <td>https://storage.yandexcloud.net/garbage-images...</td>\n",
       "      <td>{\"shape\":\"polygon\"\\,\"points\":[{\"left\":0.120259...</td>\n",
       "      <td>3120742 2 3123444 6 3126147 10 3128850 13 3131...</td>\n",
       "    </tr>\n",
       "    <tr>\n",
       "      <th>3</th>\n",
       "      <td>https://storage.yandexcloud.net/garbage-images...</td>\n",
       "      <td>{\"shape\":\"polygon\"\\,\"points\":[{\"left\":0.297034...</td>\n",
       "      <td>841684 2 844385 7 847086 12 849787 17 852488 2...</td>\n",
       "    </tr>\n",
       "    <tr>\n",
       "      <th>4</th>\n",
       "      <td>https://storage.yandexcloud.net/garbage-images...</td>\n",
       "      <td>{\"shape\":\"polygon\"\\,\"points\":[{\"left\":0.719647...</td>\n",
       "      <td>36947 5 39641 10 42335 12 45030 13 47724 15 50...</td>\n",
       "    </tr>\n",
       "    <tr>\n",
       "      <th>...</th>\n",
       "      <td>...</td>\n",
       "      <td>...</td>\n",
       "      <td>...</td>\n",
       "    </tr>\n",
       "    <tr>\n",
       "      <th>4232</th>\n",
       "      <td>https://storage.yandexcloud.net/garbage-images...</td>\n",
       "      <td>{\"shape\":\"polygon\"\\,\"points\":[{\"left\":0.267891...</td>\n",
       "      <td>1942439 4 1945137 11 1947835 18 1950533 25 195...</td>\n",
       "    </tr>\n",
       "    <tr>\n",
       "      <th>4233</th>\n",
       "      <td>https://storage.yandexcloud.net/garbage-images...</td>\n",
       "      <td>{\"shape\":\"polygon\"\\,\"points\":[{\"left\":0.411109...</td>\n",
       "      <td>1047560 1 1050263 3 1052966 5 1055669 7 105837...</td>\n",
       "    </tr>\n",
       "    <tr>\n",
       "      <th>4234</th>\n",
       "      <td>https://storage.yandexcloud.net/garbage-images...</td>\n",
       "      <td>{\"shape\":\"polygon\"\\,\"points\":[{\"left\":0.389559...</td>\n",
       "      <td>2651023 19 2653720 42 2656418 49 2659115 58 26...</td>\n",
       "    </tr>\n",
       "    <tr>\n",
       "      <th>4235</th>\n",
       "      <td>https://storage.yandexcloud.net/garbage-images...</td>\n",
       "      <td>{\"shape\":\"polygon\"\\,\"points\":[{\"left\":0.565837...</td>\n",
       "      <td>1875487 1 1878189 3 1880891 6 1880933 2 188359...</td>\n",
       "    </tr>\n",
       "    <tr>\n",
       "      <th>4236</th>\n",
       "      <td>https://storage.yandexcloud.net/garbage-images...</td>\n",
       "      <td>{\"shape\":\"polygon\"\\,\"points\":[{\"left\":0.713883...</td>\n",
       "      <td>1505167 2 1507870 5 1510574 8 1513277 11 15159...</td>\n",
       "    </tr>\n",
       "  </tbody>\n",
       "</table>\n",
       "<p>4237 rows × 3 columns</p>\n",
       "</div>"
      ],
      "text/plain": [
       "                                                  image  \\\n",
       "0     https://storage.yandexcloud.net/garbage-images...   \n",
       "1     https://storage.yandexcloud.net/garbage-images...   \n",
       "2     https://storage.yandexcloud.net/garbage-images...   \n",
       "3     https://storage.yandexcloud.net/garbage-images...   \n",
       "4     https://storage.yandexcloud.net/garbage-images...   \n",
       "...                                                 ...   \n",
       "4232  https://storage.yandexcloud.net/garbage-images...   \n",
       "4233  https://storage.yandexcloud.net/garbage-images...   \n",
       "4234  https://storage.yandexcloud.net/garbage-images...   \n",
       "4235  https://storage.yandexcloud.net/garbage-images...   \n",
       "4236  https://storage.yandexcloud.net/garbage-images...   \n",
       "\n",
       "                                                  count  \\\n",
       "0     {\"shape\":\"polygon\"\\,\"points\":[{\"left\":0.406846...   \n",
       "1     {\"shape\":\"polygon\"\\,\"points\":[{\"left\":0.530583...   \n",
       "2     {\"shape\":\"polygon\"\\,\"points\":[{\"left\":0.120259...   \n",
       "3     {\"shape\":\"polygon\"\\,\"points\":[{\"left\":0.297034...   \n",
       "4     {\"shape\":\"polygon\"\\,\"points\":[{\"left\":0.719647...   \n",
       "...                                                 ...   \n",
       "4232  {\"shape\":\"polygon\"\\,\"points\":[{\"left\":0.267891...   \n",
       "4233  {\"shape\":\"polygon\"\\,\"points\":[{\"left\":0.411109...   \n",
       "4234  {\"shape\":\"polygon\"\\,\"points\":[{\"left\":0.389559...   \n",
       "4235  {\"shape\":\"polygon\"\\,\"points\":[{\"left\":0.565837...   \n",
       "4236  {\"shape\":\"polygon\"\\,\"points\":[{\"left\":0.713883...   \n",
       "\n",
       "                                                    rle  \n",
       "0     1942571 3 1945269 9 1947967 15 1950665 21 1953...  \n",
       "1     1504852 3 1507554 9 1510257 15 1512959 21 1515...  \n",
       "2     3120742 2 3123444 6 3126147 10 3128850 13 3131...  \n",
       "3     841684 2 844385 7 847086 12 849787 17 852488 2...  \n",
       "4     36947 5 39641 10 42335 12 45030 13 47724 15 50...  \n",
       "...                                                 ...  \n",
       "4232  1942439 4 1945137 11 1947835 18 1950533 25 195...  \n",
       "4233  1047560 1 1050263 3 1052966 5 1055669 7 105837...  \n",
       "4234  2651023 19 2653720 42 2656418 49 2659115 58 26...  \n",
       "4235  1875487 1 1878189 3 1880891 6 1880933 2 188359...  \n",
       "4236  1505167 2 1507870 5 1510574 8 1513277 11 15159...  \n",
       "\n",
       "[4237 rows x 3 columns]"
      ]
     },
     "execution_count": 159,
     "metadata": {},
     "output_type": "execute_result"
    }
   ],
   "source": [
    "df = df.rename(columns={'INPUT:image': 'image', 'OUTPUT:path': 'count'})\n",
    "\n",
    "df = df[['image', 'count', 'rle']]\n",
    "df"
   ]
  },
  {
   "cell_type": "code",
   "execution_count": 161,
   "id": "e0c9b3d8",
   "metadata": {},
   "outputs": [
    {
     "ename": "AttributeError",
     "evalue": "'int' object has no attribute 'count'",
     "output_type": "error",
     "traceback": [
      "\u001b[1;31m---------------------------------------------------------------------------\u001b[0m",
      "\u001b[1;31mAttributeError\u001b[0m                            Traceback (most recent call last)",
      "\u001b[1;32m<ipython-input-161-dd127b50cd32>\u001b[0m in \u001b[0;36m<module>\u001b[1;34m\u001b[0m\n\u001b[1;32m----> 1\u001b[1;33m \u001b[0mdf\u001b[0m\u001b[1;33m[\u001b[0m\u001b[1;34m'count'\u001b[0m\u001b[1;33m]\u001b[0m \u001b[1;33m=\u001b[0m \u001b[0mdf\u001b[0m\u001b[1;33m[\u001b[0m\u001b[1;34m'count'\u001b[0m\u001b[1;33m]\u001b[0m\u001b[1;33m.\u001b[0m\u001b[0mapply\u001b[0m\u001b[1;33m(\u001b[0m\u001b[1;32mlambda\u001b[0m \u001b[0mx\u001b[0m\u001b[1;33m:\u001b[0m \u001b[0mx\u001b[0m\u001b[1;33m.\u001b[0m\u001b[0mcount\u001b[0m\u001b[1;33m(\u001b[0m\u001b[1;34m'shape'\u001b[0m\u001b[1;33m)\u001b[0m\u001b[1;33m)\u001b[0m\u001b[1;33m\u001b[0m\u001b[1;33m\u001b[0m\u001b[0m\n\u001b[0m",
      "\u001b[1;32mC:\\ProgramData\\Anaconda3\\lib\\site-packages\\pandas\\core\\series.py\u001b[0m in \u001b[0;36mapply\u001b[1;34m(self, func, convert_dtype, args, **kwds)\u001b[0m\n\u001b[0;32m   4136\u001b[0m             \u001b[1;32melse\u001b[0m\u001b[1;33m:\u001b[0m\u001b[1;33m\u001b[0m\u001b[1;33m\u001b[0m\u001b[0m\n\u001b[0;32m   4137\u001b[0m                 \u001b[0mvalues\u001b[0m \u001b[1;33m=\u001b[0m \u001b[0mself\u001b[0m\u001b[1;33m.\u001b[0m\u001b[0mastype\u001b[0m\u001b[1;33m(\u001b[0m\u001b[0mobject\u001b[0m\u001b[1;33m)\u001b[0m\u001b[1;33m.\u001b[0m\u001b[0m_values\u001b[0m\u001b[1;33m\u001b[0m\u001b[1;33m\u001b[0m\u001b[0m\n\u001b[1;32m-> 4138\u001b[1;33m                 \u001b[0mmapped\u001b[0m \u001b[1;33m=\u001b[0m \u001b[0mlib\u001b[0m\u001b[1;33m.\u001b[0m\u001b[0mmap_infer\u001b[0m\u001b[1;33m(\u001b[0m\u001b[0mvalues\u001b[0m\u001b[1;33m,\u001b[0m \u001b[0mf\u001b[0m\u001b[1;33m,\u001b[0m \u001b[0mconvert\u001b[0m\u001b[1;33m=\u001b[0m\u001b[0mconvert_dtype\u001b[0m\u001b[1;33m)\u001b[0m\u001b[1;33m\u001b[0m\u001b[1;33m\u001b[0m\u001b[0m\n\u001b[0m\u001b[0;32m   4139\u001b[0m \u001b[1;33m\u001b[0m\u001b[0m\n\u001b[0;32m   4140\u001b[0m         \u001b[1;32mif\u001b[0m \u001b[0mlen\u001b[0m\u001b[1;33m(\u001b[0m\u001b[0mmapped\u001b[0m\u001b[1;33m)\u001b[0m \u001b[1;32mand\u001b[0m \u001b[0misinstance\u001b[0m\u001b[1;33m(\u001b[0m\u001b[0mmapped\u001b[0m\u001b[1;33m[\u001b[0m\u001b[1;36m0\u001b[0m\u001b[1;33m]\u001b[0m\u001b[1;33m,\u001b[0m \u001b[0mSeries\u001b[0m\u001b[1;33m)\u001b[0m\u001b[1;33m:\u001b[0m\u001b[1;33m\u001b[0m\u001b[1;33m\u001b[0m\u001b[0m\n",
      "\u001b[1;32mpandas\\_libs\\lib.pyx\u001b[0m in \u001b[0;36mpandas._libs.lib.map_infer\u001b[1;34m()\u001b[0m\n",
      "\u001b[1;32m<ipython-input-161-dd127b50cd32>\u001b[0m in \u001b[0;36m<lambda>\u001b[1;34m(x)\u001b[0m\n\u001b[1;32m----> 1\u001b[1;33m \u001b[0mdf\u001b[0m\u001b[1;33m[\u001b[0m\u001b[1;34m'count'\u001b[0m\u001b[1;33m]\u001b[0m \u001b[1;33m=\u001b[0m \u001b[0mdf\u001b[0m\u001b[1;33m[\u001b[0m\u001b[1;34m'count'\u001b[0m\u001b[1;33m]\u001b[0m\u001b[1;33m.\u001b[0m\u001b[0mapply\u001b[0m\u001b[1;33m(\u001b[0m\u001b[1;32mlambda\u001b[0m \u001b[0mx\u001b[0m\u001b[1;33m:\u001b[0m \u001b[0mx\u001b[0m\u001b[1;33m.\u001b[0m\u001b[0mcount\u001b[0m\u001b[1;33m(\u001b[0m\u001b[1;34m'shape'\u001b[0m\u001b[1;33m)\u001b[0m\u001b[1;33m)\u001b[0m\u001b[1;33m\u001b[0m\u001b[1;33m\u001b[0m\u001b[0m\n\u001b[0m",
      "\u001b[1;31mAttributeError\u001b[0m: 'int' object has no attribute 'count'"
     ]
    }
   ],
   "source": [
    "df['count'] = df['count'].apply(lambda x: x.count('shape'))"
   ]
  },
  {
   "cell_type": "code",
   "execution_count": 162,
   "id": "0385fe8c",
   "metadata": {},
   "outputs": [],
   "source": [
    "df['image'] = df['image'].apply(lambda x: x.split('/')[-1])"
   ]
  },
  {
   "cell_type": "code",
   "execution_count": 163,
   "id": "230dadda",
   "metadata": {},
   "outputs": [],
   "source": [
    "df = df.set_index('image')"
   ]
  },
  {
   "cell_type": "code",
   "execution_count": 229,
   "id": "7e63604c",
   "metadata": {},
   "outputs": [
    {
     "data": {
      "text/html": [
       "<div>\n",
       "<style scoped>\n",
       "    .dataframe tbody tr th:only-of-type {\n",
       "        vertical-align: middle;\n",
       "    }\n",
       "\n",
       "    .dataframe tbody tr th {\n",
       "        vertical-align: top;\n",
       "    }\n",
       "\n",
       "    .dataframe thead th {\n",
       "        text-align: right;\n",
       "    }\n",
       "</style>\n",
       "<table border=\"1\" class=\"dataframe\">\n",
       "  <thead>\n",
       "    <tr style=\"text-align: right;\">\n",
       "      <th></th>\n",
       "      <th>count</th>\n",
       "      <th>rle</th>\n",
       "    </tr>\n",
       "    <tr>\n",
       "      <th>image</th>\n",
       "      <th></th>\n",
       "      <th></th>\n",
       "    </tr>\n",
       "  </thead>\n",
       "  <tbody>\n",
       "    <tr>\n",
       "      <th>DJI_0037-400.jpg</th>\n",
       "      <td>1</td>\n",
       "      <td>1942571 3 1945269 9 1947967 15 1950665 21 1953...</td>\n",
       "    </tr>\n",
       "    <tr>\n",
       "      <th>DJI_0037-400.jpg</th>\n",
       "      <td>1</td>\n",
       "      <td>1961491 15 1964189 20 1966892 21 1969595 22 19...</td>\n",
       "    </tr>\n",
       "    <tr>\n",
       "      <th>DJI_0037-400.jpg</th>\n",
       "      <td>1</td>\n",
       "      <td>1929037 1 1931741 2 1934444 4 1937148 5 193985...</td>\n",
       "    </tr>\n",
       "  </tbody>\n",
       "</table>\n",
       "</div>"
      ],
      "text/plain": [
       "                  count                                                rle\n",
       "image                                                                     \n",
       "DJI_0037-400.jpg      1  1942571 3 1945269 9 1947967 15 1950665 21 1953...\n",
       "DJI_0037-400.jpg      1  1961491 15 1964189 20 1966892 21 1969595 22 19...\n",
       "DJI_0037-400.jpg      1  1929037 1 1931741 2 1934444 4 1937148 5 193985..."
      ]
     },
     "execution_count": 229,
     "metadata": {},
     "output_type": "execute_result"
    }
   ],
   "source": [
    "df.loc['DJI_0037-400.jpg']"
   ]
  },
  {
   "cell_type": "code",
   "execution_count": 197,
   "id": "308a2b63",
   "metadata": {},
   "outputs": [
    {
     "data": {
      "text/plain": [
       "2    625\n",
       "3    427\n",
       "1    384\n",
       "4    150\n",
       "5    115\n",
       "6     14\n",
       "7      9\n",
       "Name: image, dtype: int64"
      ]
     },
     "execution_count": 197,
     "metadata": {},
     "output_type": "execute_result"
    }
   ],
   "source": [
    "df.index.value_counts().value_counts()"
   ]
  },
  {
   "cell_type": "code",
   "execution_count": 248,
   "id": "d0753623",
   "metadata": {},
   "outputs": [],
   "source": [
    "def rle_decode(mask_rle, shape):\n",
    "    '''\n",
    "    mask_rle: run-length as string formated (start length)\n",
    "    shape: (height,width) of array to return \n",
    "    Returns numpy array, 1 - mask, 0 - background\n",
    "\n",
    "    '''\n",
    "    s = mask_rle.split()\n",
    "    starts, lengths = [np.asarray(x, dtype=int) for x in (s[0:][::2], s[1:][::2])]\n",
    "    starts -= 1\n",
    "    ends = starts + lengths\n",
    "    img = np.zeros(shape[0]*shape[1], dtype=np.uint8)\n",
    "    for lo, hi in zip(starts, ends):\n",
    "        img[lo:hi] = 1\n",
    "    return img.reshape(shape)"
   ]
  },
  {
   "cell_type": "code",
   "execution_count": 249,
   "id": "aad4aa65",
   "metadata": {},
   "outputs": [],
   "source": [
    "def rle_encode(img):\n",
    "    '''\n",
    "    img: numpy array, 1 - mask, 0 - background\n",
    "    Returns run length as string formated\n",
    "    '''\n",
    "    pixels = img.flatten()\n",
    "    pixels = np.concatenate([[0], pixels, [0]])\n",
    "    runs = np.where(pixels[1:] != pixels[:-1])[0] + 1\n",
    "    runs[1::2] -= runs[::2]\n",
    "    return ' '.join(str(x) for x in runs)"
   ]
  },
  {
   "cell_type": "code",
   "execution_count": 250,
   "id": "c1a7b89e",
   "metadata": {},
   "outputs": [
    {
     "data": {
      "text/plain": [
       "image\n",
       "DJI_0008-0.jpg       2\n",
       "DJI_0008-100.jpg     2\n",
       "DJI_0008-1075.jpg    3\n",
       "DJI_0008-1100.jpg    3\n",
       "DJI_0008-1125.jpg    3\n",
       "                    ..\n",
       "DJI_0265-675.jpg     2\n",
       "DJI_0265-725.jpg     2\n",
       "DJI_0265-75.jpg      2\n",
       "DJI_0265-750.jpg     2\n",
       "DJI_0265-775.jpg     2\n",
       "Length: 1340, dtype: int64"
      ]
     },
     "execution_count": 250,
     "metadata": {},
     "output_type": "execute_result"
    }
   ],
   "source": [
    "groups = df.groupby(df.index).size()\n",
    "groups = groups[groups > 1]\n",
    "groups"
   ]
  },
  {
   "cell_type": "code",
   "execution_count": 290,
   "id": "0561f5c0",
   "metadata": {},
   "outputs": [
    {
     "name": "stdout",
     "output_type": "stream",
     "text": [
      "C:\\Users\\shvet\\Documents\\Machine Learning\n"
     ]
    },
    {
     "ename": "ValueError",
     "evalue": "operands could not be broadcast together with shapes (980,) (981,) (980,) ",
     "output_type": "error",
     "traceback": [
      "\u001b[1;31m---------------------------------------------------------------------------\u001b[0m",
      "\u001b[1;31mValueError\u001b[0m                                Traceback (most recent call last)",
      "\u001b[1;32m<ipython-input-290-0bf8f4dc7d65>\u001b[0m in \u001b[0;36m<module>\u001b[1;34m\u001b[0m\n\u001b[0;32m     24\u001b[0m         \u001b[0mfinal_mask\u001b[0m \u001b[1;33m=\u001b[0m \u001b[0mfinal_mask\u001b[0m \u001b[1;33m+\u001b[0m \u001b[0mmask\u001b[0m\u001b[1;33m\u001b[0m\u001b[1;33m\u001b[0m\u001b[0m\n\u001b[0;32m     25\u001b[0m \u001b[1;33m\u001b[0m\u001b[0m\n\u001b[1;32m---> 26\u001b[1;33m     \u001b[0mcur\u001b[0m \u001b[1;33m=\u001b[0m \u001b[0mrle_encode\u001b[0m\u001b[1;33m(\u001b[0m\u001b[0mfinal_mask\u001b[0m\u001b[1;33m.\u001b[0m\u001b[0mastype\u001b[0m\u001b[1;33m(\u001b[0m\u001b[0mnp\u001b[0m\u001b[1;33m.\u001b[0m\u001b[0mint32\u001b[0m\u001b[1;33m)\u001b[0m\u001b[1;33m)\u001b[0m\u001b[1;33m\u001b[0m\u001b[1;33m\u001b[0m\u001b[0m\n\u001b[0m\u001b[0;32m     27\u001b[0m     \u001b[0munified\u001b[0m\u001b[1;33m.\u001b[0m\u001b[0mappend\u001b[0m\u001b[1;33m(\u001b[0m\u001b[1;33m(\u001b[0m\u001b[0mimage\u001b[0m\u001b[1;33m,\u001b[0m \u001b[1;33m[\u001b[0m\u001b[0mi\u001b[0m\u001b[1;33m,\u001b[0m \u001b[0mcur\u001b[0m\u001b[1;33m]\u001b[0m\u001b[1;33m)\u001b[0m\u001b[1;33m)\u001b[0m\u001b[1;33m\u001b[0m\u001b[1;33m\u001b[0m\u001b[0m\n\u001b[0;32m     28\u001b[0m \u001b[1;33m\u001b[0m\u001b[0m\n",
      "\u001b[1;32m<ipython-input-249-9ab1018a50a3>\u001b[0m in \u001b[0;36mrle_encode\u001b[1;34m(img)\u001b[0m\n\u001b[0;32m      7\u001b[0m     \u001b[0mpixels\u001b[0m \u001b[1;33m=\u001b[0m \u001b[0mnp\u001b[0m\u001b[1;33m.\u001b[0m\u001b[0mconcatenate\u001b[0m\u001b[1;33m(\u001b[0m\u001b[1;33m[\u001b[0m\u001b[1;33m[\u001b[0m\u001b[1;36m0\u001b[0m\u001b[1;33m]\u001b[0m\u001b[1;33m,\u001b[0m \u001b[0mpixels\u001b[0m\u001b[1;33m,\u001b[0m \u001b[1;33m[\u001b[0m\u001b[1;36m0\u001b[0m\u001b[1;33m]\u001b[0m\u001b[1;33m]\u001b[0m\u001b[1;33m)\u001b[0m\u001b[1;33m\u001b[0m\u001b[1;33m\u001b[0m\u001b[0m\n\u001b[0;32m      8\u001b[0m     \u001b[0mruns\u001b[0m \u001b[1;33m=\u001b[0m \u001b[0mnp\u001b[0m\u001b[1;33m.\u001b[0m\u001b[0mwhere\u001b[0m\u001b[1;33m(\u001b[0m\u001b[0mpixels\u001b[0m\u001b[1;33m[\u001b[0m\u001b[1;36m1\u001b[0m\u001b[1;33m:\u001b[0m\u001b[1;33m]\u001b[0m \u001b[1;33m!=\u001b[0m \u001b[0mpixels\u001b[0m\u001b[1;33m[\u001b[0m\u001b[1;33m:\u001b[0m\u001b[1;33m-\u001b[0m\u001b[1;36m1\u001b[0m\u001b[1;33m]\u001b[0m\u001b[1;33m)\u001b[0m\u001b[1;33m[\u001b[0m\u001b[1;36m0\u001b[0m\u001b[1;33m]\u001b[0m \u001b[1;33m+\u001b[0m \u001b[1;36m1\u001b[0m\u001b[1;33m\u001b[0m\u001b[1;33m\u001b[0m\u001b[0m\n\u001b[1;32m----> 9\u001b[1;33m     \u001b[0mruns\u001b[0m\u001b[1;33m[\u001b[0m\u001b[1;36m1\u001b[0m\u001b[1;33m:\u001b[0m\u001b[1;33m:\u001b[0m\u001b[1;36m2\u001b[0m\u001b[1;33m]\u001b[0m \u001b[1;33m-=\u001b[0m \u001b[0mruns\u001b[0m\u001b[1;33m[\u001b[0m\u001b[1;33m:\u001b[0m\u001b[1;33m:\u001b[0m\u001b[1;36m2\u001b[0m\u001b[1;33m]\u001b[0m\u001b[1;33m\u001b[0m\u001b[1;33m\u001b[0m\u001b[0m\n\u001b[0m\u001b[0;32m     10\u001b[0m     \u001b[1;32mreturn\u001b[0m \u001b[1;34m' '\u001b[0m\u001b[1;33m.\u001b[0m\u001b[0mjoin\u001b[0m\u001b[1;33m(\u001b[0m\u001b[0mstr\u001b[0m\u001b[1;33m(\u001b[0m\u001b[0mx\u001b[0m\u001b[1;33m)\u001b[0m \u001b[1;32mfor\u001b[0m \u001b[0mx\u001b[0m \u001b[1;32min\u001b[0m \u001b[0mruns\u001b[0m\u001b[1;33m)\u001b[0m\u001b[1;33m\u001b[0m\u001b[1;33m\u001b[0m\u001b[0m\n",
      "\u001b[1;31mValueError\u001b[0m: operands could not be broadcast together with shapes (980,) (981,) (980,) "
     ]
    }
   ],
   "source": [
    "def replace_duplicates(rows):\n",
    "    df.drop_duplicates(subset='image', keep=False, inplace=True)\n",
    "    for row in rows:\n",
    "        #row - tuple: 1 elem - string, 2 elem - [cnt, mask]\n",
    "        df.loc[row[0]] = row[1]\n",
    "        df.index = df.index + 1\n",
    "        \n",
    "def get_resolution(image_path: str):\n",
    "    with Image.open('C:/Users/shvet/Documents/Machine Learning/ecodrone/train/train/'+image_path) as img:\n",
    "        width, height = img.size\n",
    "    return (height, width)\n",
    "        \n",
    "print(os.getcwd())\n",
    "    \n",
    "unified = []\n",
    "\n",
    "for image in groups.index:\n",
    "    dup = df.loc[image]\n",
    "    height, width = get_resolution(image)\n",
    "    final_mask = np.zeros(height * width, dtype=np.int32).reshape(-1, width)\n",
    "    \n",
    "    for i, rle in enumerate(dup['rle'], start=1):\n",
    "        mask = rle_decode(rle, (height, width))\n",
    "        final_mask = final_mask + mask\n",
    "        \n",
    "    cur = rle_encode(final_mask.astype(np.int32))\n",
    "    unified.append((image, [i, cur]))\n",
    "    \n",
    "replace_duplicates(unified)\n",
    "    \n",
    "    "
   ]
  },
  {
   "cell_type": "code",
   "execution_count": 231,
   "id": "929c4f22",
   "metadata": {},
   "outputs": [],
   "source": [
    "rle_1 = '1942571 3 1945269 9 1947967 15 1950665 21 1953363 27 1956061 34 1958759 40 1961460 43 1964163 44 1966865 46 1969568 48 1972271 49 1974973 51 1977676 52 1980379 53 1983081 56 1985784 57 1988487 58 1991189 60 1993892 61 1996595 63 1999297 65 2002000 66 2004703 67 2007405 69 2010108 71 2012811 72 2015514 73 2018217 74 2020920 75 2023623 77 2026326 78 2029029 79 2031732 80 2034436 80 2037139 82 2039842 83 2042545 84 2045248 85 2047951 86 2050654 88 2053357 89 2056060 90 2058763 91 2061466 92 2064169 94 2066872 94 2069575 95 2072278 96 2074982 96 2077685 97 2080388 98 2083091 99 2085794 100 2088497 101 2091200 102 2093903 103 2096606 104 2099311 103 2102015 103 2104720 102 2107424 102 2110129 101 2112833 101 2115538 100 2118242 100 2120946 100 2123651 99 2126355 99 2129060 98 2131764 98 2134469 97 2137173 97 2139878 96 2142582 95 2145287 94 2147991 94 2150696 93 2153400 93 2156104 93 2158809 92 2161513 92 2164218 91 2166922 91 2169627 90 2172331 90 2175036 89 2177741 88 2180445 87 2183150 86 2185854 86 2188559 85 2191264 84 2193968 84 2196673 83 2199378 82 2202082 82 2204787 81 2207491 81 2210196 80 2212901 79 2215605 79 2218310 77 2221014 77 2223719 76 2226424 75 2229128 75 2231833 74 2234537 74 2237242 73 2239947 72 2242651 72 2245356 71 2248061 70 2250765 70 2253470 69 2256174 68 2258879 65 2261584 63 2264288 62 2266993 59 2269699 56 2272405 53 2275110 50 2277816 47 2280522 44 2283228 40 2285933 38 2288639 35 2291345 31 2294050 29 2296756 26 2299462 22 2302167 20 2304873 17 2307579 13 2310285 10 2312990 8 2315696 4 2318402 1'"
   ]
  },
  {
   "cell_type": "code",
   "execution_count": 253,
   "id": "2d20a342",
   "metadata": {},
   "outputs": [
    {
     "data": {
      "text/plain": [
       "'1942571 3 1945269 9 1947967 15 1950665 21 1953363 27 1956061 34 1958759 40 1961460 43 1964163 44 1966865 46 1969568 48 1972271 49 1974973 51 1977676 52 1980379 53 1983081 56 1985784 57 1988487 58 1991189 60 1993892 61 1996595 63 1999297 65 2002000 66 2004703 67 2007405 69 2010108 71 2012811 72 2015514 73 2018217 74 2020920 75 2023623 77 2026326 78 2029029 79 2031732 80 2034436 80 2037139 82 2039842 83 2042545 84 2045248 85 2047951 86 2050654 88 2053357 89 2056060 90 2058763 91 2061466 92 2064169 94 2066872 94 2069575 95 2072278 96 2074982 96 2077685 97 2080388 98 2083091 99 2085794 100 2088497 101 2091200 102 2093903 103 2096606 104 2099311 103 2102015 103 2104720 102 2107424 102 2110129 101 2112833 101 2115538 100 2118242 100 2120946 100 2123651 99 2126355 99 2129060 98 2131764 98 2134469 97 2137173 97 2139878 96 2142582 95 2145287 94 2147991 94 2150696 93 2153400 93 2156104 93 2158809 92 2161513 92 2164218 91 2166922 91 2169627 90 2172331 90 2175036 89 2177741 88 2180445 87 2183150 86 2185854 86 2188559 85 2191264 84 2193968 84 2196673 83 2199378 82 2202082 82 2204787 81 2207491 81 2210196 80 2212901 79 2215605 79 2218310 77 2221014 77 2223719 76 2226424 75 2229128 75 2231833 74 2234537 74 2237242 73 2239947 72 2242651 72 2245356 71 2248061 70 2250765 70 2253470 69 2256174 68 2258879 65 2261584 63 2264288 62 2266993 59 2269699 56 2272405 53 2275110 50 2277816 47 2280522 44 2283228 40 2285933 38 2288639 35 2291345 31 2294050 29 2296756 26 2299462 22 2302167 20 2304873 17 2307579 13 2310285 10 2312990 8 2315696 4 2318402 1'"
      ]
     },
     "execution_count": 253,
     "metadata": {},
     "output_type": "execute_result"
    }
   ],
   "source": [
    "mask1 = rle_decode(rle_1, (2704, 1520))\n",
    "rle2 = rle_encode(mask1.astype(np.int32))\n",
    "rle2"
   ]
  },
  {
   "cell_type": "code",
   "execution_count": null,
   "id": "d25b53ea",
   "metadata": {},
   "outputs": [],
   "source": []
  },
  {
   "cell_type": "code",
   "execution_count": null,
   "id": "7ff3e56b",
   "metadata": {},
   "outputs": [],
   "source": []
  },
  {
   "cell_type": "code",
   "execution_count": 149,
   "id": "08096598",
   "metadata": {},
   "outputs": [],
   "source": [
    "df_rect = pd.read_csv('C:/Users/shvet/Downloads/Telegram Desktop/train-all-rectangles.csv')\n",
    "df_rect = df_rect[['image', 'rectangles']]"
   ]
  },
  {
   "cell_type": "code",
   "execution_count": 150,
   "id": "5ecde321",
   "metadata": {},
   "outputs": [
    {
     "data": {
      "text/html": [
       "<div>\n",
       "<style scoped>\n",
       "    .dataframe tbody tr th:only-of-type {\n",
       "        vertical-align: middle;\n",
       "    }\n",
       "\n",
       "    .dataframe tbody tr th {\n",
       "        vertical-align: top;\n",
       "    }\n",
       "\n",
       "    .dataframe thead th {\n",
       "        text-align: right;\n",
       "    }\n",
       "</style>\n",
       "<table border=\"1\" class=\"dataframe\">\n",
       "  <thead>\n",
       "    <tr style=\"text-align: right;\">\n",
       "      <th></th>\n",
       "      <th>image</th>\n",
       "      <th>rectangles</th>\n",
       "    </tr>\n",
       "  </thead>\n",
       "  <tbody>\n",
       "    <tr>\n",
       "      <th>0</th>\n",
       "      <td>https://storage.yandexcloud.net/garbage-images...</td>\n",
       "      <td>{\"points\": [[0.3718361098715851, 0.41019884380...</td>\n",
       "    </tr>\n",
       "    <tr>\n",
       "      <th>1</th>\n",
       "      <td>https://storage.yandexcloud.net/garbage-images...</td>\n",
       "      <td>{\"points\": [[0.4749768303985171, 0.59082483781...</td>\n",
       "    </tr>\n",
       "    <tr>\n",
       "      <th>2</th>\n",
       "      <td>https://storage.yandexcloud.net/garbage-images...</td>\n",
       "      <td>{\"points\": [[0.10464685604026558, 0.1425639573...</td>\n",
       "    </tr>\n",
       "    <tr>\n",
       "      <th>3</th>\n",
       "      <td>https://storage.yandexcloud.net/garbage-images...</td>\n",
       "      <td>{\"points\": [[0.2043558850787766, 0.30352177942...</td>\n",
       "    </tr>\n",
       "    <tr>\n",
       "      <th>4</th>\n",
       "      <td>https://storage.yandexcloud.net/garbage-images...</td>\n",
       "      <td>{\"points\": [[0.6158480074142725, 0.74559777571...</td>\n",
       "    </tr>\n",
       "    <tr>\n",
       "      <th>...</th>\n",
       "      <td>...</td>\n",
       "      <td>...</td>\n",
       "    </tr>\n",
       "    <tr>\n",
       "      <th>4232</th>\n",
       "      <td>https://storage.yandexcloud.net/garbage-images...</td>\n",
       "      <td>{\"points\": [[0.08904257961818024, 0.3883591555...</td>\n",
       "    </tr>\n",
       "    <tr>\n",
       "      <th>4233</th>\n",
       "      <td>https://storage.yandexcloud.net/garbage-images...</td>\n",
       "      <td>{\"points\": [[0.3818553702463659, 0.41658197029...</td>\n",
       "    </tr>\n",
       "    <tr>\n",
       "      <th>4234</th>\n",
       "      <td>https://storage.yandexcloud.net/garbage-images...</td>\n",
       "      <td>{\"points\": [[0.36358194325044296, 0.4306899703...</td>\n",
       "    </tr>\n",
       "    <tr>\n",
       "      <th>4235</th>\n",
       "      <td>https://storage.yandexcloud.net/garbage-images...</td>\n",
       "      <td>{\"points\": [[0.5629642709420879, 0.63638235760...</td>\n",
       "    </tr>\n",
       "    <tr>\n",
       "      <th>4236</th>\n",
       "      <td>https://storage.yandexcloud.net/garbage-images...</td>\n",
       "      <td>{\"points\": [[0.6089082114958588, 0.77260500802...</td>\n",
       "    </tr>\n",
       "  </tbody>\n",
       "</table>\n",
       "<p>4237 rows × 2 columns</p>\n",
       "</div>"
      ],
      "text/plain": [
       "                                                  image  \\\n",
       "0     https://storage.yandexcloud.net/garbage-images...   \n",
       "1     https://storage.yandexcloud.net/garbage-images...   \n",
       "2     https://storage.yandexcloud.net/garbage-images...   \n",
       "3     https://storage.yandexcloud.net/garbage-images...   \n",
       "4     https://storage.yandexcloud.net/garbage-images...   \n",
       "...                                                 ...   \n",
       "4232  https://storage.yandexcloud.net/garbage-images...   \n",
       "4233  https://storage.yandexcloud.net/garbage-images...   \n",
       "4234  https://storage.yandexcloud.net/garbage-images...   \n",
       "4235  https://storage.yandexcloud.net/garbage-images...   \n",
       "4236  https://storage.yandexcloud.net/garbage-images...   \n",
       "\n",
       "                                             rectangles  \n",
       "0     {\"points\": [[0.3718361098715851, 0.41019884380...  \n",
       "1     {\"points\": [[0.4749768303985171, 0.59082483781...  \n",
       "2     {\"points\": [[0.10464685604026558, 0.1425639573...  \n",
       "3     {\"points\": [[0.2043558850787766, 0.30352177942...  \n",
       "4     {\"points\": [[0.6158480074142725, 0.74559777571...  \n",
       "...                                                 ...  \n",
       "4232  {\"points\": [[0.08904257961818024, 0.3883591555...  \n",
       "4233  {\"points\": [[0.3818553702463659, 0.41658197029...  \n",
       "4234  {\"points\": [[0.36358194325044296, 0.4306899703...  \n",
       "4235  {\"points\": [[0.5629642709420879, 0.63638235760...  \n",
       "4236  {\"points\": [[0.6089082114958588, 0.77260500802...  \n",
       "\n",
       "[4237 rows x 2 columns]"
      ]
     },
     "execution_count": 150,
     "metadata": {},
     "output_type": "execute_result"
    }
   ],
   "source": [
    "df_rect"
   ]
  },
  {
   "cell_type": "code",
   "execution_count": 142,
   "id": "5b235e8a",
   "metadata": {},
   "outputs": [
    {
     "data": {
      "text/plain": [
       "[[0.3718361098715851,\n",
       "  0.4101988438082816,\n",
       "  0.47252982038615804,\n",
       "  0.5639652502146337]]"
      ]
     },
     "execution_count": 142,
     "metadata": {},
     "output_type": "execute_result"
    }
   ],
   "source": [
    "json.loads(df_rect['rectangles'][0])['points']"
   ]
  },
  {
   "cell_type": "code",
   "execution_count": 143,
   "id": "9dc015e2",
   "metadata": {},
   "outputs": [],
   "source": [
    "get_image_address = lambda x: x.split('/')[-1]"
   ]
  },
  {
   "cell_type": "code",
   "execution_count": 144,
   "id": "581624c4",
   "metadata": {},
   "outputs": [],
   "source": [
    "points = pd.DataFrame(df_rect['rectangles'])"
   ]
  },
  {
   "cell_type": "code",
   "execution_count": 46,
   "id": "02490c7a",
   "metadata": {
    "scrolled": false
   },
   "outputs": [
    {
     "data": {
      "text/html": [
       "<div>\n",
       "<style scoped>\n",
       "    .dataframe tbody tr th:only-of-type {\n",
       "        vertical-align: middle;\n",
       "    }\n",
       "\n",
       "    .dataframe tbody tr th {\n",
       "        vertical-align: top;\n",
       "    }\n",
       "\n",
       "    .dataframe thead th {\n",
       "        text-align: right;\n",
       "    }\n",
       "</style>\n",
       "<table border=\"1\" class=\"dataframe\">\n",
       "  <thead>\n",
       "    <tr style=\"text-align: right;\">\n",
       "      <th></th>\n",
       "      <th>rectangles</th>\n",
       "    </tr>\n",
       "  </thead>\n",
       "  <tbody>\n",
       "    <tr>\n",
       "      <th>0</th>\n",
       "      <td>{\"points\": [[0.3718361098715851, 0.41019884380...</td>\n",
       "    </tr>\n",
       "    <tr>\n",
       "      <th>1</th>\n",
       "      <td>{\"points\": [[0.4749768303985171, 0.59082483781...</td>\n",
       "    </tr>\n",
       "    <tr>\n",
       "      <th>2</th>\n",
       "      <td>{\"points\": [[0.10464685604026558, 0.1425639573...</td>\n",
       "    </tr>\n",
       "    <tr>\n",
       "      <th>3</th>\n",
       "      <td>{\"points\": [[0.2043558850787766, 0.30352177942...</td>\n",
       "    </tr>\n",
       "    <tr>\n",
       "      <th>4</th>\n",
       "      <td>{\"points\": [[0.6158480074142725, 0.74559777571...</td>\n",
       "    </tr>\n",
       "    <tr>\n",
       "      <th>...</th>\n",
       "      <td>...</td>\n",
       "    </tr>\n",
       "    <tr>\n",
       "      <th>4232</th>\n",
       "      <td>{\"points\": [[0.08904257961818024, 0.3883591555...</td>\n",
       "    </tr>\n",
       "    <tr>\n",
       "      <th>4233</th>\n",
       "      <td>{\"points\": [[0.3818553702463659, 0.41658197029...</td>\n",
       "    </tr>\n",
       "    <tr>\n",
       "      <th>4234</th>\n",
       "      <td>{\"points\": [[0.36358194325044296, 0.4306899703...</td>\n",
       "    </tr>\n",
       "    <tr>\n",
       "      <th>4235</th>\n",
       "      <td>{\"points\": [[0.5629642709420879, 0.63638235760...</td>\n",
       "    </tr>\n",
       "    <tr>\n",
       "      <th>4236</th>\n",
       "      <td>{\"points\": [[0.6089082114958588, 0.77260500802...</td>\n",
       "    </tr>\n",
       "  </tbody>\n",
       "</table>\n",
       "<p>4237 rows × 1 columns</p>\n",
       "</div>"
      ],
      "text/plain": [
       "                                             rectangles\n",
       "0     {\"points\": [[0.3718361098715851, 0.41019884380...\n",
       "1     {\"points\": [[0.4749768303985171, 0.59082483781...\n",
       "2     {\"points\": [[0.10464685604026558, 0.1425639573...\n",
       "3     {\"points\": [[0.2043558850787766, 0.30352177942...\n",
       "4     {\"points\": [[0.6158480074142725, 0.74559777571...\n",
       "...                                                 ...\n",
       "4232  {\"points\": [[0.08904257961818024, 0.3883591555...\n",
       "4233  {\"points\": [[0.3818553702463659, 0.41658197029...\n",
       "4234  {\"points\": [[0.36358194325044296, 0.4306899703...\n",
       "4235  {\"points\": [[0.5629642709420879, 0.63638235760...\n",
       "4236  {\"points\": [[0.6089082114958588, 0.77260500802...\n",
       "\n",
       "[4237 rows x 1 columns]"
      ]
     },
     "execution_count": 46,
     "metadata": {},
     "output_type": "execute_result"
    }
   ],
   "source": [
    "points"
   ]
  },
  {
   "cell_type": "code",
   "execution_count": 72,
   "id": "e601f477",
   "metadata": {},
   "outputs": [
    {
     "data": {
      "text/plain": [
       "<function __main__.<lambda>(x)>"
      ]
     },
     "execution_count": 72,
     "metadata": {},
     "output_type": "execute_result"
    }
   ],
   "source": [
    "get_image_address"
   ]
  },
  {
   "cell_type": "code",
   "execution_count": null,
   "id": "c1c3bc97",
   "metadata": {},
   "outputs": [],
   "source": []
  }
 ],
 "metadata": {
  "kernelspec": {
   "display_name": "Python 3",
   "language": "python",
   "name": "python3"
  },
  "language_info": {
   "codemirror_mode": {
    "name": "ipython",
    "version": 3
   },
   "file_extension": ".py",
   "mimetype": "text/x-python",
   "name": "python",
   "nbconvert_exporter": "python",
   "pygments_lexer": "ipython3",
   "version": "3.8.8"
  }
 },
 "nbformat": 4,
 "nbformat_minor": 5
}
