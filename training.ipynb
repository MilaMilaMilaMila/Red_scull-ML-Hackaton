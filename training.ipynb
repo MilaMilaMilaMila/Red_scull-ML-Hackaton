{
 "cells": [
  {
   "cell_type": "code",
   "execution_count": null,
   "id": "829b1d95",
   "metadata": {},
   "outputs": [],
   "source": [
    "import os\n",
    "import sys\n",
    "import random\n",
    "import math\n",
    "import re\n",
    "import time\n",
    "import numpy as np\n",
    "import cv2\n",
    "import matplotlib\n",
    "import matplotlib.pyplot as plt\n",
    "import pandas as pd\n",
    "\n",
    "from PIL import Image\n",
    "from typing import Tuple\n",
    "\n",
    "# Root directory of the project\n",
    "ROOT_DIR = os.path.abspath(\"/home/tracer/Рабочий стол/repos/Red_scull-ML-Hackaton/Mask_RCNN\")\n",
    "\n",
    "# Import Mask RCNN\n",
    "sys.path.append(ROOT_DIR) # To find local version of the library\n",
    "\n",
    "from mrcnn.config import Config\n",
    "from mrcnn import utils\n",
    "import mrcnn.model as modellib\n",
    "from mrcnn import visualize\n",
    "from mrcnn.model import log"
   ]
  },
  {
   "cell_type": "code",
   "execution_count": null,
   "id": "b6bfa5f5",
   "metadata": {},
   "outputs": [],
   "source": [
    "train_indexes: Tuple[int, int] = (0, 1400) #starting index, ending index\n",
    "test_indexes: Tuple[int, int] = (1400, 1800)\n",
    "\n",
    "class GarbageDataset(utils.Dataset):\n",
    "    def load_dataset(self, images_dir: str, csv: pd.DataFrame, indexes: Tuple(int, int)):\n",
    "        # Definig classes\n",
    "        self._csv = csv\n",
    "        self.add_source(\"dataset\", 1, \"garbage\")\n",
    "        \n",
    "        # Defining images\n",
    "        for i, image_name in enumerate(listdir(images_dir)):\n",
    "            if i < indexes[0] or i > indexes[1]:\n",
    "                continue\n",
    "                \n",
    "            image_path = os.path.join(images_dir, image_name)\n",
    "            height, width = self._get_resolution(image_path)\n",
    "            \n",
    "            self.add_image('dataset', image_id=image_name, path=image_path, height=height, width=width)\n",
    "            \n",
    "    def _get_resolution(self, image_path: str):\n",
    "        with Image.open(image_path) as img:\n",
    "            width, height = img.size\n",
    "        return (height, width)\n",
    "        \n",
    "    \n",
    "    def _rle_to_mask(self, rle: str, height, width):\n",
    "        rows, cols = height, width\n",
    "        rle_numbers = [*map(int, rle.split())]\n",
    "        rle_pairs = np.array(rle_numbers).reshape(-1,2)\n",
    "        \n",
    "        img = np.zeros(rows * cols, dtype=np.uint8)\n",
    "        \n",
    "        for index, length in rle_pairs:\n",
    "            index -= 1\n",
    "            img[index:index + length] = 255\n",
    "        \n",
    "        img = img.reshape(cols,rows)\n",
    "        img = img.T\n",
    "        \n",
    "        return img.astype(np.bool)\n",
    "        \n",
    "    def load_mask(self, image_id):\n",
    "        img_info = self.image_info[image_id]\n",
    "        rle = self.csv[image_id][\"rle\"] # we should get rle value of row with image_name\n",
    "        \n",
    "        mask = self._rle_to_mask(rle, img_info['height'], img_info['width'])\n",
    "        mask_count = self.csv[image_id][\"count\"]\n",
    "        class_ids = np.fill(mask_count, self.class_names.index(\"garbage\"))\n",
    "        \n",
    "        return mask, class_ids\n",
    "    \n",
    "    def image_referece(self, image_id):\n",
    "        return elf.image_info[image_id]['path']\n",
    "    "
   ]
  },
  {
   "cell_type": "code",
   "execution_count": null,
   "id": "fc3f0e5a",
   "metadata": {},
   "outputs": [],
   "source": [
    "csv = pd.read_csv('./train.csv')\n",
    "\n",
    "train_set = GarbageDataset()\n",
    "train_set.load_dataset('./images/', csv, train_indexes)\n",
    "train_set.prepare()\n",
    "\n",
    "print('Train: %d' % len(train_set.image_ids))"
   ]
  },
  {
   "cell_type": "code",
   "execution_count": 5,
   "id": "2d027891",
   "metadata": {},
   "outputs": [
    {
     "data": {
      "text/plain": [
       "True"
      ]
     },
     "execution_count": 5,
     "metadata": {},
     "output_type": "execute_result"
    }
   ],
   "source": [
    "\n"
   ]
  },
  {
   "cell_type": "code",
   "execution_count": null,
   "id": "6b906d70",
   "metadata": {},
   "outputs": [],
   "source": []
  }
 ],
 "metadata": {
  "kernelspec": {
   "display_name": "Python 3 (ipykernel)",
   "language": "python",
   "name": "python3"
  },
  "language_info": {
   "codemirror_mode": {
    "name": "ipython",
    "version": 3
   },
   "file_extension": ".py",
   "mimetype": "text/x-python",
   "name": "python",
   "nbconvert_exporter": "python",
   "pygments_lexer": "ipython3",
   "version": "3.8.10"
  }
 },
 "nbformat": 4,
 "nbformat_minor": 5
}
